{
 "cells": [
  {
   "cell_type": "code",
   "execution_count": 1,
   "id": "6808e881",
   "metadata": {},
   "outputs": [],
   "source": [
    "import pandas as pd\n",
    "import numpy as np\n",
    "import matplotlib.pyplot as plt\n",
    "#path = os.path.join('c:' + os.sep, 'Users', 'xxxx', 'Desktop', 'LRGYSN', 'LRGYAN.CSV')\n",
    "#$DATA_SET = pd.read_csv(path)\n",
    "\n",
    "dataset = pd.read_csv('lrgyan.csv',encoding='UTF-8')\n",
    "#C:\\Users\\sesa192365\\MeTech\\lrgyan.csv\n",
    "\n",
    "# input\n",
    "x = dataset.iloc[:, [2, 3]].values\n",
    "#print('X='+x)\n",
    "\n",
    "# output\n",
    "y = dataset.iloc[:, 4].values\n",
    "#print('y='+y)\n"
   ]
  },
  {
   "cell_type": "code",
   "execution_count": 17,
   "id": "5fd59bb1",
   "metadata": {
    "scrolled": true
   },
   "outputs": [
    {
     "name": "stdout",
     "output_type": "stream",
     "text": [
      "['ReqI', 'BCTypes', 'IRR', 'NPV', 'OfferTypesNPorIRR']\n",
      "['1', 'NP', '19', '22', '0']\n",
      "['2', 'RPO', '40', '40', '1']\n",
      "['3', 'NP', '21', '22', '0']\n",
      "['4', 'RPO', '10', '10', '0']\n"
     ]
    }
   ],
   "source": [
    "#DATA CHECK point\n",
    "import csv\n",
    "\n",
    "data = open('lrgyan.csv',encoding=\"UTF-8\")\n",
    "csv_data = csv.reader(data)\n",
    "data_lines = list(csv_data)\n",
    "data_lines[:3]\n",
    "for line in data_lines[:5]:\n",
    "    print(line)\n",
    "    \n",
    " "
   ]
  },
  {
   "cell_type": "code",
   "execution_count": 22,
   "id": "8d95b3b2",
   "metadata": {},
   "outputs": [
    {
     "ename": "IndentationError",
     "evalue": "unexpected indent (2747842359.py, line 2)",
     "output_type": "error",
     "traceback": [
      "\u001b[1;36m  File \u001b[1;32m\"C:\\Users\\sesa192365\\AppData\\Local\\Temp\\ipykernel_16188\\2747842359.py\"\u001b[1;36m, line \u001b[1;32m2\u001b[0m\n\u001b[1;33m    data_lines = list(csv_data)\u001b[0m\n\u001b[1;37m    ^\u001b[0m\n\u001b[1;31mIndentationError\u001b[0m\u001b[1;31m:\u001b[0m unexpected indent\n"
     ]
    }
   ],
   "source": [
    "   #print('data='+len(data_lines)\n",
    "  \n",
    "all_irr = []\n",
    "for line in data_lines[1:9]:\n",
    "    all_irr.append(line[3])\n"
   ]
  },
  {
   "cell_type": "code",
   "execution_count": 24,
   "id": "38c56f09",
   "metadata": {},
   "outputs": [
    {
     "name": "stdout",
     "output_type": "stream",
     "text": [
      "[[ 0.06786375  0.05011367]\n",
      " [ 1.21537806  1.21525644]\n",
      " [ 1.40046102  1.4031827 ]\n",
      " [-1.19070034 -1.22778486]\n",
      " [-0.85755102 -0.77676185]\n",
      " [-0.63545147 -0.6640061 ]]\n",
      "output : \n",
      " [0 0 0]\n"
     ]
    }
   ],
   "source": [
    "#Train Test Split\n",
    "from sklearn.model_selection import train_test_split\n",
    "X_train, X_test, y_train, y_test = train_test_split(x, y, test_size = 0.25, random_state = 0)\n",
    "\n",
    "from sklearn.preprocessing import StandardScaler\n",
    "sc_x = StandardScaler()\n",
    "\n",
    "## Training and Predicting   \n",
    "xtrain = sc_x.fit_transform(X_train)\n",
    "xtest = sc_x.transform(X_test)\n",
    "#xtrain.info();\n",
    "\n",
    "print (xtrain[0:10, :])\n",
    "\n",
    "from sklearn.linear_model import LogisticRegression\n",
    "classifier = LogisticRegression(random_state = 0)\n",
    "classifier.fit(xtrain, y_train)\n",
    "\n",
    "y_pred = classifier.predict(xtest)\n",
    "\n",
    "#plot the graph \n",
    "\n",
    "\n",
    "\n",
    "print (\"output : \\n\", y_pred)\n",
    "\n",
    "\n"
   ]
  },
  {
   "cell_type": "code",
   "execution_count": null,
   "id": "b662af1d",
   "metadata": {},
   "outputs": [],
   "source": []
  }
 ],
 "metadata": {
  "kernelspec": {
   "display_name": "Python 3 (ipykernel)",
   "language": "python",
   "name": "python3"
  },
  "language_info": {
   "codemirror_mode": {
    "name": "ipython",
    "version": 3
   },
   "file_extension": ".py",
   "mimetype": "text/x-python",
   "name": "python",
   "nbconvert_exporter": "python",
   "pygments_lexer": "ipython3",
   "version": "3.9.13"
  }
 },
 "nbformat": 4,
 "nbformat_minor": 5
}
