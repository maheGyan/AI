{
 "cells": [
  {
   "cell_type": "code",
   "execution_count": 4,
   "id": "4e2ddfc6",
   "metadata": {},
   "outputs": [
    {
     "name": "stdout",
     "output_type": "stream",
     "text": [
      "GBC Accuracy is 0.915 (0.034)\n",
      "##GBC Prediction is 1##\n"
     ]
    }
   ],
   "source": [
    "#Gyanesh kuamr Pandey\n",
    "# gradient boosting for classification in scikit-learn\n",
    "# Gradient boosting is a method standing out for its prediction speed and accuracy, particularly with large and complex datasets.\n",
    "# import all relevant libraries\n",
    "\n",
    "from numpy import mean\n",
    "from numpy import std\n",
    "from sklearn.datasets import make_classification\n",
    "from sklearn.ensemble import GradientBoostingClassifier\n",
    "from sklearn.model_selection import cross_val_score\n",
    "from sklearn.model_selection import RepeatedStratifiedKFold\n",
    "from matplotlib import pyplot\n",
    "\n",
    "\n",
    "# Now let's define the dataset\n",
    "X, y = make_classification(n_samples=1000, n_features=10, n_informative=5, n_redundant=5, random_state=1)\n",
    "\n",
    "# Define Gradient Boosting Classifier with hyperparameters\n",
    "model = GradientBoostingClassifier()\n",
    "\n",
    "# split dataset into test and train data\n",
    "cv = RepeatedStratifiedKFold(n_splits=15, n_repeats=3, random_state=1)\n",
    "n_scores = cross_val_score(model, X, y, scoring='accuracy', cv=cv, n_jobs=-1, error_score='raise')\n",
    "print('GBC Accuracy is %.3f (%.3f)' % (mean(n_scores), std(n_scores)))\n",
    "\n",
    "# Fit train data to GBC\n",
    "model = GradientBoostingClassifier()\n",
    "model.fit(X, y)\n",
    "\n",
    "# make a single prediction\n",
    "row = [[3.56999479, -0.13019997, 3.16075093, -3.35936352, -1.61271951, -1.39352057, -2.48924933, -0.93094078, 3.26130366, 2.05692145]]\n",
    "yhat = model.predict(row)\n",
    "\n",
    "\n",
    "print('##GBC Prediction is %d##' % yhat[0])"
   ]
  },
  {
   "cell_type": "code",
   "execution_count": null,
   "id": "37938f2a",
   "metadata": {},
   "outputs": [],
   "source": []
  },
  {
   "cell_type": "code",
   "execution_count": null,
   "id": "6d5eee6d",
   "metadata": {},
   "outputs": [],
   "source": []
  }
 ],
 "metadata": {
  "kernelspec": {
   "display_name": "Python 3 (ipykernel)",
   "language": "python",
   "name": "python3"
  },
  "language_info": {
   "codemirror_mode": {
    "name": "ipython",
    "version": 3
   },
   "file_extension": ".py",
   "mimetype": "text/x-python",
   "name": "python",
   "nbconvert_exporter": "python",
   "pygments_lexer": "ipython3",
   "version": "3.9.13"
  }
 },
 "nbformat": 4,
 "nbformat_minor": 5
}
